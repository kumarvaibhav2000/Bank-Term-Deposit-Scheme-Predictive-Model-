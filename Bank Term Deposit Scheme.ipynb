{
 "cells": [
  {
   "cell_type": "code",
   "execution_count": 1,
   "id": "productive-identifier",
   "metadata": {},
   "outputs": [],
   "source": [
    "#importing all the necessary libaries.\n",
    "\n",
    "import pandas as pd\n",
    "import numpy as np\n",
    "import matplotlib.pyplot as plt\n",
    "import seaborn as sns\n",
    "%matplotlib inline \n",
    "import warnings\n",
    "warnings.filterwarnings(\"ignore\")\n",
    "\n",
    "#import data as a dataframe.\n",
    "train = pd.read_csv('Training_Dataset_Time_Deposit - Sheet1.csv')\n",
    "test1 = pd.read_csv('Testing_Dataset_Time_Deposit - Sheet1 (1).csv')"
   ]
  },
  {
   "cell_type": "code",
   "execution_count": 2,
   "id": "knowing-brown",
   "metadata": {},
   "outputs": [
    {
     "data": {
      "text/html": [
       "<div>\n",
       "<style scoped>\n",
       "    .dataframe tbody tr th:only-of-type {\n",
       "        vertical-align: middle;\n",
       "    }\n",
       "\n",
       "    .dataframe tbody tr th {\n",
       "        vertical-align: top;\n",
       "    }\n",
       "\n",
       "    .dataframe thead th {\n",
       "        text-align: right;\n",
       "    }\n",
       "</style>\n",
       "<table border=\"1\" class=\"dataframe\">\n",
       "  <thead>\n",
       "    <tr style=\"text-align: right;\">\n",
       "      <th></th>\n",
       "      <th>key</th>\n",
       "      <th>age</th>\n",
       "      <th>job</th>\n",
       "      <th>marital</th>\n",
       "      <th>education</th>\n",
       "      <th>default</th>\n",
       "      <th>housing</th>\n",
       "      <th>loan</th>\n",
       "      <th>contact</th>\n",
       "      <th>month</th>\n",
       "      <th>...</th>\n",
       "      <th>campaign</th>\n",
       "      <th>pdays</th>\n",
       "      <th>previous</th>\n",
       "      <th>poutcome</th>\n",
       "      <th>emp.var.rate</th>\n",
       "      <th>cons.price.idx</th>\n",
       "      <th>cons.conf.idx</th>\n",
       "      <th>euribor3m</th>\n",
       "      <th>nr.employed</th>\n",
       "      <th>y</th>\n",
       "    </tr>\n",
       "  </thead>\n",
       "  <tbody>\n",
       "    <tr>\n",
       "      <th>0</th>\n",
       "      <td>444</td>\n",
       "      <td>45</td>\n",
       "      <td>management</td>\n",
       "      <td>married</td>\n",
       "      <td>university.degree</td>\n",
       "      <td>no</td>\n",
       "      <td>yes</td>\n",
       "      <td>no</td>\n",
       "      <td>telephone</td>\n",
       "      <td>may</td>\n",
       "      <td>...</td>\n",
       "      <td>1</td>\n",
       "      <td>999</td>\n",
       "      <td>0</td>\n",
       "      <td>nonexistent</td>\n",
       "      <td>1.1</td>\n",
       "      <td>93.994</td>\n",
       "      <td>-36.4</td>\n",
       "      <td>4.857</td>\n",
       "      <td>5191.0</td>\n",
       "      <td>no</td>\n",
       "    </tr>\n",
       "    <tr>\n",
       "      <th>1</th>\n",
       "      <td>445</td>\n",
       "      <td>34</td>\n",
       "      <td>admin.</td>\n",
       "      <td>married</td>\n",
       "      <td>basic.9y</td>\n",
       "      <td>no</td>\n",
       "      <td>no</td>\n",
       "      <td>no</td>\n",
       "      <td>telephone</td>\n",
       "      <td>may</td>\n",
       "      <td>...</td>\n",
       "      <td>1</td>\n",
       "      <td>999</td>\n",
       "      <td>0</td>\n",
       "      <td>nonexistent</td>\n",
       "      <td>1.1</td>\n",
       "      <td>93.994</td>\n",
       "      <td>-36.4</td>\n",
       "      <td>4.857</td>\n",
       "      <td>5191.0</td>\n",
       "      <td>no</td>\n",
       "    </tr>\n",
       "    <tr>\n",
       "      <th>2</th>\n",
       "      <td>446</td>\n",
       "      <td>47</td>\n",
       "      <td>blue-collar</td>\n",
       "      <td>married</td>\n",
       "      <td>unknown</td>\n",
       "      <td>unknown</td>\n",
       "      <td>no</td>\n",
       "      <td>no</td>\n",
       "      <td>telephone</td>\n",
       "      <td>may</td>\n",
       "      <td>...</td>\n",
       "      <td>1</td>\n",
       "      <td>999</td>\n",
       "      <td>0</td>\n",
       "      <td>nonexistent</td>\n",
       "      <td>1.1</td>\n",
       "      <td>93.994</td>\n",
       "      <td>-36.4</td>\n",
       "      <td>4.857</td>\n",
       "      <td>5191.0</td>\n",
       "      <td>no</td>\n",
       "    </tr>\n",
       "    <tr>\n",
       "      <th>3</th>\n",
       "      <td>447</td>\n",
       "      <td>42</td>\n",
       "      <td>technician</td>\n",
       "      <td>married</td>\n",
       "      <td>professional.course</td>\n",
       "      <td>no</td>\n",
       "      <td>no</td>\n",
       "      <td>no</td>\n",
       "      <td>telephone</td>\n",
       "      <td>may</td>\n",
       "      <td>...</td>\n",
       "      <td>1</td>\n",
       "      <td>999</td>\n",
       "      <td>0</td>\n",
       "      <td>nonexistent</td>\n",
       "      <td>1.1</td>\n",
       "      <td>93.994</td>\n",
       "      <td>-36.4</td>\n",
       "      <td>4.857</td>\n",
       "      <td>5191.0</td>\n",
       "      <td>yes</td>\n",
       "    </tr>\n",
       "    <tr>\n",
       "      <th>4</th>\n",
       "      <td>448</td>\n",
       "      <td>57</td>\n",
       "      <td>technician</td>\n",
       "      <td>married</td>\n",
       "      <td>basic.4y</td>\n",
       "      <td>unknown</td>\n",
       "      <td>no</td>\n",
       "      <td>yes</td>\n",
       "      <td>telephone</td>\n",
       "      <td>may</td>\n",
       "      <td>...</td>\n",
       "      <td>1</td>\n",
       "      <td>999</td>\n",
       "      <td>0</td>\n",
       "      <td>nonexistent</td>\n",
       "      <td>1.1</td>\n",
       "      <td>93.994</td>\n",
       "      <td>-36.4</td>\n",
       "      <td>4.857</td>\n",
       "      <td>5191.0</td>\n",
       "      <td>no</td>\n",
       "    </tr>\n",
       "  </tbody>\n",
       "</table>\n",
       "<p>5 rows × 22 columns</p>\n",
       "</div>"
      ],
      "text/plain": [
       "   key  age          job  marital            education  default housing loan  \\\n",
       "0  444   45   management  married    university.degree       no     yes   no   \n",
       "1  445   34       admin.  married             basic.9y       no      no   no   \n",
       "2  446   47  blue-collar  married              unknown  unknown      no   no   \n",
       "3  447   42   technician  married  professional.course       no      no   no   \n",
       "4  448   57   technician  married             basic.4y  unknown      no  yes   \n",
       "\n",
       "     contact month  ... campaign  pdays  previous     poutcome  emp.var.rate  \\\n",
       "0  telephone   may  ...        1    999         0  nonexistent           1.1   \n",
       "1  telephone   may  ...        1    999         0  nonexistent           1.1   \n",
       "2  telephone   may  ...        1    999         0  nonexistent           1.1   \n",
       "3  telephone   may  ...        1    999         0  nonexistent           1.1   \n",
       "4  telephone   may  ...        1    999         0  nonexistent           1.1   \n",
       "\n",
       "  cons.price.idx  cons.conf.idx  euribor3m  nr.employed    y  \n",
       "0         93.994          -36.4      4.857       5191.0   no  \n",
       "1         93.994          -36.4      4.857       5191.0   no  \n",
       "2         93.994          -36.4      4.857       5191.0   no  \n",
       "3         93.994          -36.4      4.857       5191.0  yes  \n",
       "4         93.994          -36.4      4.857       5191.0   no  \n",
       "\n",
       "[5 rows x 22 columns]"
      ]
     },
     "execution_count": 2,
     "metadata": {},
     "output_type": "execute_result"
    }
   ],
   "source": [
    "#view the first few rows of the data\n",
    "train.head()"
   ]
  },
  {
   "cell_type": "code",
   "execution_count": 3,
   "id": "optical-briefing",
   "metadata": {},
   "outputs": [
    {
     "data": {
      "text/html": [
       "<div>\n",
       "<style scoped>\n",
       "    .dataframe tbody tr th:only-of-type {\n",
       "        vertical-align: middle;\n",
       "    }\n",
       "\n",
       "    .dataframe tbody tr th {\n",
       "        vertical-align: top;\n",
       "    }\n",
       "\n",
       "    .dataframe thead th {\n",
       "        text-align: right;\n",
       "    }\n",
       "</style>\n",
       "<table border=\"1\" class=\"dataframe\">\n",
       "  <thead>\n",
       "    <tr style=\"text-align: right;\">\n",
       "      <th></th>\n",
       "      <th>key</th>\n",
       "      <th>age</th>\n",
       "      <th>job</th>\n",
       "      <th>marital</th>\n",
       "      <th>education</th>\n",
       "      <th>default</th>\n",
       "      <th>housing</th>\n",
       "      <th>loan</th>\n",
       "      <th>contact</th>\n",
       "      <th>month</th>\n",
       "      <th>...</th>\n",
       "      <th>duration</th>\n",
       "      <th>campaign</th>\n",
       "      <th>pdays</th>\n",
       "      <th>previous</th>\n",
       "      <th>poutcome</th>\n",
       "      <th>emp.var.rate</th>\n",
       "      <th>cons.price.idx</th>\n",
       "      <th>cons.conf.idx</th>\n",
       "      <th>euribor3m</th>\n",
       "      <th>nr.employed</th>\n",
       "    </tr>\n",
       "  </thead>\n",
       "  <tbody>\n",
       "    <tr>\n",
       "      <th>0</th>\n",
       "      <td>1</td>\n",
       "      <td>56</td>\n",
       "      <td>housemaid</td>\n",
       "      <td>married</td>\n",
       "      <td>basic.4y</td>\n",
       "      <td>no</td>\n",
       "      <td>no</td>\n",
       "      <td>no</td>\n",
       "      <td>telephone</td>\n",
       "      <td>may</td>\n",
       "      <td>...</td>\n",
       "      <td>261</td>\n",
       "      <td>1</td>\n",
       "      <td>999</td>\n",
       "      <td>0</td>\n",
       "      <td>nonexistent</td>\n",
       "      <td>1.1</td>\n",
       "      <td>93.994</td>\n",
       "      <td>-36.4</td>\n",
       "      <td>4.857</td>\n",
       "      <td>5191.0</td>\n",
       "    </tr>\n",
       "    <tr>\n",
       "      <th>1</th>\n",
       "      <td>2</td>\n",
       "      <td>57</td>\n",
       "      <td>services</td>\n",
       "      <td>married</td>\n",
       "      <td>high.school</td>\n",
       "      <td>unknown</td>\n",
       "      <td>no</td>\n",
       "      <td>no</td>\n",
       "      <td>telephone</td>\n",
       "      <td>may</td>\n",
       "      <td>...</td>\n",
       "      <td>149</td>\n",
       "      <td>1</td>\n",
       "      <td>999</td>\n",
       "      <td>0</td>\n",
       "      <td>nonexistent</td>\n",
       "      <td>1.1</td>\n",
       "      <td>93.994</td>\n",
       "      <td>-36.4</td>\n",
       "      <td>4.857</td>\n",
       "      <td>5191.0</td>\n",
       "    </tr>\n",
       "    <tr>\n",
       "      <th>2</th>\n",
       "      <td>3</td>\n",
       "      <td>37</td>\n",
       "      <td>services</td>\n",
       "      <td>married</td>\n",
       "      <td>high.school</td>\n",
       "      <td>no</td>\n",
       "      <td>yes</td>\n",
       "      <td>no</td>\n",
       "      <td>telephone</td>\n",
       "      <td>may</td>\n",
       "      <td>...</td>\n",
       "      <td>226</td>\n",
       "      <td>1</td>\n",
       "      <td>999</td>\n",
       "      <td>0</td>\n",
       "      <td>nonexistent</td>\n",
       "      <td>1.1</td>\n",
       "      <td>93.994</td>\n",
       "      <td>-36.4</td>\n",
       "      <td>4.857</td>\n",
       "      <td>5191.0</td>\n",
       "    </tr>\n",
       "    <tr>\n",
       "      <th>3</th>\n",
       "      <td>4</td>\n",
       "      <td>40</td>\n",
       "      <td>admin.</td>\n",
       "      <td>married</td>\n",
       "      <td>basic.6y</td>\n",
       "      <td>no</td>\n",
       "      <td>no</td>\n",
       "      <td>no</td>\n",
       "      <td>telephone</td>\n",
       "      <td>may</td>\n",
       "      <td>...</td>\n",
       "      <td>151</td>\n",
       "      <td>1</td>\n",
       "      <td>999</td>\n",
       "      <td>0</td>\n",
       "      <td>nonexistent</td>\n",
       "      <td>1.1</td>\n",
       "      <td>93.994</td>\n",
       "      <td>-36.4</td>\n",
       "      <td>4.857</td>\n",
       "      <td>5191.0</td>\n",
       "    </tr>\n",
       "    <tr>\n",
       "      <th>4</th>\n",
       "      <td>5</td>\n",
       "      <td>56</td>\n",
       "      <td>services</td>\n",
       "      <td>married</td>\n",
       "      <td>high.school</td>\n",
       "      <td>no</td>\n",
       "      <td>no</td>\n",
       "      <td>yes</td>\n",
       "      <td>telephone</td>\n",
       "      <td>may</td>\n",
       "      <td>...</td>\n",
       "      <td>307</td>\n",
       "      <td>1</td>\n",
       "      <td>999</td>\n",
       "      <td>0</td>\n",
       "      <td>nonexistent</td>\n",
       "      <td>1.1</td>\n",
       "      <td>93.994</td>\n",
       "      <td>-36.4</td>\n",
       "      <td>4.857</td>\n",
       "      <td>5191.0</td>\n",
       "    </tr>\n",
       "  </tbody>\n",
       "</table>\n",
       "<p>5 rows × 21 columns</p>\n",
       "</div>"
      ],
      "text/plain": [
       "   key  age        job  marital    education  default housing loan    contact  \\\n",
       "0    1   56  housemaid  married     basic.4y       no      no   no  telephone   \n",
       "1    2   57   services  married  high.school  unknown      no   no  telephone   \n",
       "2    3   37   services  married  high.school       no     yes   no  telephone   \n",
       "3    4   40     admin.  married     basic.6y       no      no   no  telephone   \n",
       "4    5   56   services  married  high.school       no      no  yes  telephone   \n",
       "\n",
       "  month  ... duration  campaign  pdays  previous     poutcome emp.var.rate  \\\n",
       "0   may  ...      261         1    999         0  nonexistent          1.1   \n",
       "1   may  ...      149         1    999         0  nonexistent          1.1   \n",
       "2   may  ...      226         1    999         0  nonexistent          1.1   \n",
       "3   may  ...      151         1    999         0  nonexistent          1.1   \n",
       "4   may  ...      307         1    999         0  nonexistent          1.1   \n",
       "\n",
       "   cons.price.idx  cons.conf.idx  euribor3m  nr.employed  \n",
       "0          93.994          -36.4      4.857       5191.0  \n",
       "1          93.994          -36.4      4.857       5191.0  \n",
       "2          93.994          -36.4      4.857       5191.0  \n",
       "3          93.994          -36.4      4.857       5191.0  \n",
       "4          93.994          -36.4      4.857       5191.0  \n",
       "\n",
       "[5 rows x 21 columns]"
      ]
     },
     "execution_count": 3,
     "metadata": {},
     "output_type": "execute_result"
    }
   ],
   "source": [
    "test1.head()"
   ]
  },
  {
   "cell_type": "code",
   "execution_count": 4,
   "id": "married-finding",
   "metadata": {},
   "outputs": [
    {
     "data": {
      "text/plain": [
       "(4170, 22)"
      ]
     },
     "execution_count": 4,
     "metadata": {},
     "output_type": "execute_result"
    }
   ],
   "source": [
    "#checking the no of rows and columns in the dataframe.\n",
    "train.shape"
   ]
  },
  {
   "cell_type": "code",
   "execution_count": 5,
   "id": "narrative-cameroon",
   "metadata": {},
   "outputs": [
    {
     "data": {
      "text/plain": [
       "(37018, 21)"
      ]
     },
     "execution_count": 5,
     "metadata": {},
     "output_type": "execute_result"
    }
   ],
   "source": [
    "test1.shape"
   ]
  },
  {
   "cell_type": "code",
   "execution_count": 6,
   "id": "federal-undergraduate",
   "metadata": {},
   "outputs": [
    {
     "data": {
      "image/png": "[encoded data removed]",
      "text/plain": [
       "<Figure size 432x288 with 1 Axes>"
      ]
     },
     "metadata": {
      "needs_background": "light"
     },
     "output_type": "display_data"
    }
   ],
   "source": [
    "#distribution of onboard clients plot.\n",
    "sns_plot =sns.countplot(x='y',data=train)\n",
    "plt.savefig('subdistribution.png')"
   ]
  },
  {
   "cell_type": "code",
   "execution_count": 7,
   "id": "angry-frost",
   "metadata": {},
   "outputs": [
    {
     "data": {
      "image/png": "[encoded data removed]",
      "text/plain": [
       "<Figure size 432x288 with 1 Axes>"
      ]
     },
     "metadata": {
      "needs_background": "light"
     },
     "output_type": "display_data"
    }
   ],
   "source": [
    "sns_plot = sns.countplot(y='job', data=train)\n",
    "plt.savefig('jobdistribution.png')"
   ]
  },
  {
   "cell_type": "markdown",
   "id": "needed-thousand",
   "metadata": {},
   "source": [
    "# #PREPROCESSING"
   ]
  },
  {
   "cell_type": "code",
   "execution_count": 8,
   "id": "distant-bowling",
   "metadata": {},
   "outputs": [
    {
     "data": {
      "text/plain": [
       "key               0\n",
       "age               0\n",
       "job               0\n",
       "marital           0\n",
       "education         0\n",
       "default           0\n",
       "housing           0\n",
       "loan              0\n",
       "contact           0\n",
       "month             0\n",
       "day_of_week       0\n",
       "duration          0\n",
       "campaign          0\n",
       "pdays             0\n",
       "previous          0\n",
       "poutcome          0\n",
       "emp.var.rate      0\n",
       "cons.price.idx    0\n",
       "cons.conf.idx     0\n",
       "euribor3m         0\n",
       "nr.employed       0\n",
       "y                 0\n",
       "dtype: int64"
      ]
     },
     "execution_count": 8,
     "metadata": {},
     "output_type": "execute_result"
    }
   ],
   "source": [
    "#checking for the null values.\n",
    "train.isnull().sum()"
   ]
  },
  {
   "cell_type": "code",
   "execution_count": 9,
   "id": "worthy-greene",
   "metadata": {},
   "outputs": [],
   "source": [
    "#drop any duplicates in the data\n",
    "train = train.drop_duplicates()"
   ]
  },
  {
   "cell_type": "code",
   "execution_count": 10,
   "id": "coral-belle",
   "metadata": {},
   "outputs": [
    {
     "data": {
      "text/plain": [
       "no     0.955635\n",
       "yes    0.044365\n",
       "Name: y, dtype: float64"
      ]
     },
     "execution_count": 10,
     "metadata": {},
     "output_type": "execute_result"
    }
   ],
   "source": [
    "#percentage distribution of onboard clients.\n",
    "train['y'].value_counts()/train['y'].count()"
   ]
  },
  {
   "cell_type": "markdown",
   "id": "remarkable-cincinnati",
   "metadata": {},
   "source": [
    "### Exploring Numerical variables "
   ]
  },
  {
   "cell_type": "code",
   "execution_count": 11,
   "id": "understood-darkness",
   "metadata": {},
   "outputs": [
    {
     "data": {
      "image/png": "[encoded data removed]",
      "text/plain": [
       "<Figure size 1080x1080 with 12 Axes>"
      ]
     },
     "metadata": {
      "needs_background": "light"
     },
     "output_type": "display_data"
    }
   ],
   "source": [
    "#Histogram grid\n",
    "train.hist(figsize=(15,15))\n",
    "plt.show()"
   ]
  },
  {
   "cell_type": "markdown",
   "id": "possible-companion",
   "metadata": {},
   "source": [
    "# splitting the dataframe"
   ]
  },
  {
   "cell_type": "code",
   "execution_count": 12,
   "id": "comic-front",
   "metadata": {},
   "outputs": [],
   "source": [
    "# Converting the train into X and y so that we can pass it onto train_test_split function\n",
    "# X --> contains the dataframe without the target i.e y\n",
    "# y --> contains only the target value y\n",
    "y = train['y']\n",
    "X = train.drop('y',axis=1)"
   ]
  },
  {
   "cell_type": "code",
   "execution_count": 13,
   "id": "freelance-excerpt",
   "metadata": {},
   "outputs": [],
   "source": [
    "#splitting the data first into two part -- doing a 70:30 split i.e 30% data fed to intermediate test data set\n",
    "from sklearn.model_selection import train_test_split\n",
    "X_train,X_inter_test,y_train,y_inter_test = train_test_split(X,y,test_size=0.3,random_state=0 , shuffle = False)"
   ]
  },
  {
   "cell_type": "code",
   "execution_count": 14,
   "id": "amino-personality",
   "metadata": {},
   "outputs": [],
   "source": [
    "#further dividing the intermediate test data to test and validation set.\n",
    "X_val,X_test,y_val,y_test = train_test_split(X_inter_test,y_inter_test,test_size=0.5,random_state=0 , shuffle = False)"
   ]
  },
  {
   "cell_type": "code",
   "execution_count": 15,
   "id": "electrical-venezuela",
   "metadata": {},
   "outputs": [
    {
     "data": {
      "text/plain": [
       "((2919, 21), (625, 21), (626, 21))"
      ]
     },
     "execution_count": 15,
     "metadata": {},
     "output_type": "execute_result"
    }
   ],
   "source": [
    "X_train.shape , X_val.shape , X_test.shape"
   ]
  },
  {
   "cell_type": "markdown",
   "id": "introductory-grain",
   "metadata": {},
   "source": [
    "# Feature Engineering"
   ]
  },
  {
   "cell_type": "code",
   "execution_count": 16,
   "id": "threatened-cursor",
   "metadata": {},
   "outputs": [
    {
     "data": {
      "text/plain": [
       "key               4170\n",
       "age                 41\n",
       "job                 12\n",
       "marital              4\n",
       "education            7\n",
       "default              2\n",
       "housing              3\n",
       "loan                 3\n",
       "contact              2\n",
       "month                4\n",
       "day_of_week          5\n",
       "duration           814\n",
       "campaign            38\n",
       "pdays                3\n",
       "previous             2\n",
       "poutcome             3\n",
       "emp.var.rate         3\n",
       "cons.price.idx       4\n",
       "cons.conf.idx        4\n",
       "euribor3m           14\n",
       "nr.employed          3\n",
       "y                    2\n",
       "dtype: int64"
      ]
     },
     "execution_count": 16,
     "metadata": {},
     "output_type": "execute_result"
    }
   ],
   "source": [
    "#checking the number of unique values.\n",
    "train.nunique()"
   ]
  },
  {
   "cell_type": "markdown",
   "id": "noble-oxford",
   "metadata": {},
   "source": [
    "### Handling Categorical Variables"
   ]
  },
  {
   "cell_type": "code",
   "execution_count": 17,
   "id": "ordinary-geneva",
   "metadata": {},
   "outputs": [],
   "source": [
    "# encoding the categorical variables\n",
    "\n",
    "from sklearn.preprocessing import LabelEncoder\n",
    "from sklearn import preprocessing\n",
    "\n",
    "encoder = LabelEncoder()\n",
    "\n",
    "encoder.fit(X_train['job'])\n",
    "X_train['job_enc'] = encoder.transform(X_train['job'])\n",
    "X_test['job_enc'] = encoder.transform(X_test['job'])\n",
    "X_val['job_enc'] = encoder.transform(X_val['job'])"
   ]
  },
  {
   "cell_type": "code",
   "execution_count": 18,
   "id": "thorough-discipline",
   "metadata": {},
   "outputs": [],
   "source": [
    "encoder1 = LabelEncoder()\n",
    "encoder1.fit(X_train['marital'])\n",
    "X_train['marital_enc'] = encoder1.transform(X_train['marital'])\n",
    "X_test['marital_enc'] = encoder1.transform(X_test['marital'])\n",
    "X_val['marital_enc'] = encoder1.transform(X_val['marital'])"
   ]
  },
  {
   "cell_type": "code",
   "execution_count": 19,
   "id": "positive-stage",
   "metadata": {},
   "outputs": [],
   "source": [
    "encoder2 = LabelEncoder()\n",
    "encoder2.fit(X_train['education'])\n",
    "X_train['education_enc'] = encoder2.transform(X_train['education'])\n",
    "X_test['education_enc'] = encoder2.transform(X_test['education'])\n",
    "X_val['education_enc'] = encoder2.transform(X_val['education'])"
   ]
  },
  {
   "cell_type": "code",
   "execution_count": 20,
   "id": "medium-correspondence",
   "metadata": {},
   "outputs": [],
   "source": [
    "encoder3 = LabelEncoder()\n",
    "encoder3.fit(X_train['default'])\n",
    "X_train['default_enc'] = encoder3.transform(X_train['default'])\n",
    "X_test['default_enc'] = encoder3.transform(X_test['default'])\n",
    "X_val['default_enc'] = encoder3.transform(X_val['default'])"
   ]
  },
  {
   "cell_type": "code",
   "execution_count": 21,
   "id": "preceding-treasure",
   "metadata": {},
   "outputs": [],
   "source": [
    "encoder4 = LabelEncoder()\n",
    "encoder4.fit(X_train['housing'])\n",
    "X_train['housing_enc'] = encoder4.transform(X_train['housing'])\n",
    "X_test['housing_enc'] = encoder4.transform(X_test['housing'])\n",
    "X_val['housing_enc'] = encoder4.transform(X_val['housing'])"
   ]
  },
  {
   "cell_type": "code",
   "execution_count": 22,
   "id": "convinced-holiday",
   "metadata": {},
   "outputs": [],
   "source": [
    "encoder5 = LabelEncoder()\n",
    "encoder5.fit(X_train['loan'])\n",
    "X_train['loan_enc'] = encoder5.transform(X_train['loan'])\n",
    "X_test['loan_enc'] = encoder5.transform(X_test['loan'])\n",
    "X_val['loan_enc'] = encoder5.transform(X_val['loan'])"
   ]
  },
  {
   "cell_type": "code",
   "execution_count": 23,
   "id": "numerous-monthly",
   "metadata": {},
   "outputs": [],
   "source": [
    "encoder6 = LabelEncoder()\n",
    "encoder6.fit(X_train['day_of_week'])\n",
    "X_train['day_of_week_enc'] = encoder6.transform(X_train['day_of_week'])\n",
    "X_test['day_of_week_enc'] = encoder6.transform(X_test['day_of_week'])\n",
    "X_val['day_of_week_enc'] = encoder6.transform(X_val['day_of_week'])"
   ]
  },
  {
   "cell_type": "code",
   "execution_count": 24,
   "id": "computational-bulgaria",
   "metadata": {},
   "outputs": [],
   "source": [
    "encoder7 = LabelEncoder()\n",
    "encoder7.fit(X_train['poutcome'])\n",
    "X_train['poutcome_enc'] = encoder7.transform(X_train['poutcome'])"
   ]
  },
  {
   "cell_type": "code",
   "execution_count": 25,
   "id": "behind-citizen",
   "metadata": {},
   "outputs": [],
   "source": [
    "#Error !!!!!: Since X_val new catagories of poutcome are seen hence we have to explicitly add them to class \n",
    "#X_val['poutcome_enc'] = encoder7.transform(X_val['poutcome'])\n",
    "\n",
    "# finding what are the new catagories in the validation set\n",
    "diff = set(X_val['poutcome'])-set(encoder7.classes_)\n",
    "\n",
    "# adding them to the classess variable // \n",
    "for items in diff:\n",
    "    encoder7.classes_ = np.append(encoder7.classes_,items)"
   ]
  },
  {
   "cell_type": "code",
   "execution_count": 26,
   "id": "funky-documentary",
   "metadata": {},
   "outputs": [],
   "source": [
    "# doing same thing for test also\n",
    "\n",
    "diff2 = set(X_test['poutcome'])-set(encoder7.classes_)\n",
    "for items in diff2:\n",
    "    encoder7.classes_ = np.append(encoder7.classes_,items)"
   ]
  },
  {
   "cell_type": "code",
   "execution_count": 27,
   "id": "hearing-theta",
   "metadata": {},
   "outputs": [],
   "source": [
    "X_val['poutcome_enc'] = encoder7.transform(X_val['poutcome'])\n",
    "X_test['poutcome_enc'] = encoder7.transform(X_test['poutcome'])"
   ]
  },
  {
   "cell_type": "code",
   "execution_count": 28,
   "id": "standard-institution",
   "metadata": {},
   "outputs": [],
   "source": [
    "encoder8 = LabelEncoder()\n",
    "encoder8.fit(X_train['contact'])\n",
    "X_train['contact_enc'] = encoder8.transform(X_train['contact'])"
   ]
  },
  {
   "cell_type": "code",
   "execution_count": 29,
   "id": "promising-salvation",
   "metadata": {},
   "outputs": [],
   "source": [
    "#Error !!!!!: Since X_val new catagories of contacts are seen hence we have to explicitly add them to class \n",
    "#X_val['contact_enc'] = encoder8.transform(X_val['contact'])\n",
    "\n",
    "# finding what are the new catagories in the validation set\n",
    "diff3 = set(X_val['contact'])-set(encoder8.classes_)\n",
    "\n",
    "# adding them to the classess variable // \n",
    "for items in diff3:\n",
    "    encoder8.classes_ = np.append(encoder8.classes_,items)\n",
    "    \n",
    "    \n",
    "# doing same thing for test also\n",
    "\n",
    "diff4 = set(X_test['contact'])-set(encoder8.classes_)\n",
    "for items in diff4:\n",
    "    encoder8.classes_ = np.append(encoder8.classes_,items)"
   ]
  },
  {
   "cell_type": "code",
   "execution_count": 30,
   "id": "planned-tennessee",
   "metadata": {},
   "outputs": [],
   "source": [
    "X_test['contact_enc'] = encoder8.transform(X_test['contact'])\n",
    "X_val['contact_enc'] = encoder8.transform(X_val['contact'])"
   ]
  },
  {
   "cell_type": "code",
   "execution_count": 31,
   "id": "outdoor-dispatch",
   "metadata": {},
   "outputs": [],
   "source": [
    "encoder9 = LabelEncoder()\n",
    "encoder9.fit(X_train['month'])\n",
    "X_train['month_enc'] = encoder9.transform(X_train['month'])"
   ]
  },
  {
   "cell_type": "code",
   "execution_count": 32,
   "id": "prompt-column",
   "metadata": {},
   "outputs": [],
   "source": [
    "#Error !!!!!: Since X_val new catagories of month are seen hence we have to explicitly add them to class \n",
    "#X_val['month_enc'] = encoder9.transform(X_val['month'])\n",
    "\n",
    "# finding what are the new catagories in the validation set\n",
    "diff5 = set(X_val['month'])-set(encoder9.classes_)\n",
    "\n",
    "# adding them to the classess variable // \n",
    "for items in diff5:\n",
    "    encoder9.classes_ = np.append(encoder9.classes_,items)\n",
    "    \n",
    "    \n",
    "# doing same thing for test also\n",
    "\n",
    "diff6 = set(X_test['month'])-set(encoder9.classes_)\n",
    "for items in diff6:\n",
    "    encoder9.classes_ = np.append(encoder9.classes_,items)"
   ]
  },
  {
   "cell_type": "code",
   "execution_count": 33,
   "id": "engaging-lending",
   "metadata": {},
   "outputs": [],
   "source": [
    "X_test['month_enc'] = encoder9.transform(X_test['month'])\n",
    "X_val['month_enc'] = encoder9.transform(X_val['month'])"
   ]
  },
  {
   "cell_type": "code",
   "execution_count": 34,
   "id": "conventional-sugar",
   "metadata": {},
   "outputs": [],
   "source": [
    "# function will delete a column from train , val and test\n",
    "def thanos_snap(col ,traindf = X_train,valdf = X_val,testdf = X_test):\n",
    "    traindf.drop(col, axis =1,inplace=True)\n",
    "    valdf.drop(col,axis=1 , inplace=True)\n",
    "    testdf.drop(col,axis=1 , inplace=True)\n",
    "\n",
    "    return traindf,valdf ,testdf"
   ]
  },
  {
   "cell_type": "code",
   "execution_count": 35,
   "id": "floating-logic",
   "metadata": {},
   "outputs": [],
   "source": [
    "#deleting all the encoded columns.\n",
    "\n",
    "X_train ,X_val, X_test = thanos_snap(['job'])\n",
    "X_train ,X_val, X_test = thanos_snap(['marital'])\n",
    "X_train ,X_val, X_test = thanos_snap(['education'])\n",
    "X_train ,X_val, X_test = thanos_snap(['default'])\n",
    "X_train ,X_val, X_test = thanos_snap(['housing'])\n",
    "X_train ,X_val, X_test = thanos_snap(['loan'])\n",
    "X_train ,X_val, X_test = thanos_snap(['contact'])\n",
    "X_train ,X_val, X_test = thanos_snap(['month'])\n",
    "X_train ,X_val, X_test = thanos_snap(['day_of_week'])\n",
    "X_train ,X_val, X_test = thanos_snap(['poutcome'])"
   ]
  },
  {
   "cell_type": "code",
   "execution_count": 36,
   "id": "successful-candy",
   "metadata": {},
   "outputs": [
    {
     "data": {
      "text/html": [
       "<div>\n",
       "<style scoped>\n",
       "    .dataframe tbody tr th:only-of-type {\n",
       "        vertical-align: middle;\n",
       "    }\n",
       "\n",
       "    .dataframe tbody tr th {\n",
       "        vertical-align: top;\n",
       "    }\n",
       "\n",
       "    .dataframe thead th {\n",
       "        text-align: right;\n",
       "    }\n",
       "</style>\n",
       "<table border=\"1\" class=\"dataframe\">\n",
       "  <thead>\n",
       "    <tr style=\"text-align: right;\">\n",
       "      <th></th>\n",
       "      <th>key</th>\n",
       "      <th>age</th>\n",
       "      <th>duration</th>\n",
       "      <th>campaign</th>\n",
       "      <th>pdays</th>\n",
       "      <th>previous</th>\n",
       "      <th>emp.var.rate</th>\n",
       "      <th>cons.price.idx</th>\n",
       "      <th>cons.conf.idx</th>\n",
       "      <th>euribor3m</th>\n",
       "      <th>...</th>\n",
       "      <th>job_enc</th>\n",
       "      <th>marital_enc</th>\n",
       "      <th>education_enc</th>\n",
       "      <th>default_enc</th>\n",
       "      <th>housing_enc</th>\n",
       "      <th>loan_enc</th>\n",
       "      <th>day_of_week_enc</th>\n",
       "      <th>poutcome_enc</th>\n",
       "      <th>contact_enc</th>\n",
       "      <th>month_enc</th>\n",
       "    </tr>\n",
       "  </thead>\n",
       "  <tbody>\n",
       "    <tr>\n",
       "      <th>0</th>\n",
       "      <td>444</td>\n",
       "      <td>45</td>\n",
       "      <td>140</td>\n",
       "      <td>1</td>\n",
       "      <td>999</td>\n",
       "      <td>0</td>\n",
       "      <td>1.1</td>\n",
       "      <td>93.994</td>\n",
       "      <td>-36.4</td>\n",
       "      <td>4.857</td>\n",
       "      <td>...</td>\n",
       "      <td>4</td>\n",
       "      <td>1</td>\n",
       "      <td>5</td>\n",
       "      <td>0</td>\n",
       "      <td>2</td>\n",
       "      <td>0</td>\n",
       "      <td>3</td>\n",
       "      <td>0</td>\n",
       "      <td>0</td>\n",
       "      <td>1</td>\n",
       "    </tr>\n",
       "    <tr>\n",
       "      <th>1</th>\n",
       "      <td>445</td>\n",
       "      <td>34</td>\n",
       "      <td>175</td>\n",
       "      <td>1</td>\n",
       "      <td>999</td>\n",
       "      <td>0</td>\n",
       "      <td>1.1</td>\n",
       "      <td>93.994</td>\n",
       "      <td>-36.4</td>\n",
       "      <td>4.857</td>\n",
       "      <td>...</td>\n",
       "      <td>0</td>\n",
       "      <td>1</td>\n",
       "      <td>2</td>\n",
       "      <td>0</td>\n",
       "      <td>0</td>\n",
       "      <td>0</td>\n",
       "      <td>3</td>\n",
       "      <td>0</td>\n",
       "      <td>0</td>\n",
       "      <td>1</td>\n",
       "    </tr>\n",
       "    <tr>\n",
       "      <th>2</th>\n",
       "      <td>446</td>\n",
       "      <td>47</td>\n",
       "      <td>136</td>\n",
       "      <td>1</td>\n",
       "      <td>999</td>\n",
       "      <td>0</td>\n",
       "      <td>1.1</td>\n",
       "      <td>93.994</td>\n",
       "      <td>-36.4</td>\n",
       "      <td>4.857</td>\n",
       "      <td>...</td>\n",
       "      <td>1</td>\n",
       "      <td>1</td>\n",
       "      <td>6</td>\n",
       "      <td>1</td>\n",
       "      <td>0</td>\n",
       "      <td>0</td>\n",
       "      <td>3</td>\n",
       "      <td>0</td>\n",
       "      <td>0</td>\n",
       "      <td>1</td>\n",
       "    </tr>\n",
       "    <tr>\n",
       "      <th>3</th>\n",
       "      <td>447</td>\n",
       "      <td>42</td>\n",
       "      <td>1623</td>\n",
       "      <td>1</td>\n",
       "      <td>999</td>\n",
       "      <td>0</td>\n",
       "      <td>1.1</td>\n",
       "      <td>93.994</td>\n",
       "      <td>-36.4</td>\n",
       "      <td>4.857</td>\n",
       "      <td>...</td>\n",
       "      <td>9</td>\n",
       "      <td>1</td>\n",
       "      <td>4</td>\n",
       "      <td>0</td>\n",
       "      <td>0</td>\n",
       "      <td>0</td>\n",
       "      <td>3</td>\n",
       "      <td>0</td>\n",
       "      <td>0</td>\n",
       "      <td>1</td>\n",
       "    </tr>\n",
       "    <tr>\n",
       "      <th>4</th>\n",
       "      <td>448</td>\n",
       "      <td>57</td>\n",
       "      <td>50</td>\n",
       "      <td>1</td>\n",
       "      <td>999</td>\n",
       "      <td>0</td>\n",
       "      <td>1.1</td>\n",
       "      <td>93.994</td>\n",
       "      <td>-36.4</td>\n",
       "      <td>4.857</td>\n",
       "      <td>...</td>\n",
       "      <td>9</td>\n",
       "      <td>1</td>\n",
       "      <td>0</td>\n",
       "      <td>1</td>\n",
       "      <td>0</td>\n",
       "      <td>2</td>\n",
       "      <td>3</td>\n",
       "      <td>0</td>\n",
       "      <td>0</td>\n",
       "      <td>1</td>\n",
       "    </tr>\n",
       "  </tbody>\n",
       "</table>\n",
       "<p>5 rows × 21 columns</p>\n",
       "</div>"
      ],
      "text/plain": [
       "   key  age  duration  campaign  pdays  previous  emp.var.rate  \\\n",
       "0  444   45       140         1    999         0           1.1   \n",
       "1  445   34       175         1    999         0           1.1   \n",
       "2  446   47       136         1    999         0           1.1   \n",
       "3  447   42      1623         1    999         0           1.1   \n",
       "4  448   57        50         1    999         0           1.1   \n",
       "\n",
       "   cons.price.idx  cons.conf.idx  euribor3m  ...  job_enc  marital_enc  \\\n",
       "0          93.994          -36.4      4.857  ...        4            1   \n",
       "1          93.994          -36.4      4.857  ...        0            1   \n",
       "2          93.994          -36.4      4.857  ...        1            1   \n",
       "3          93.994          -36.4      4.857  ...        9            1   \n",
       "4          93.994          -36.4      4.857  ...        9            1   \n",
       "\n",
       "   education_enc  default_enc  housing_enc  loan_enc  day_of_week_enc  \\\n",
       "0              5            0            2         0                3   \n",
       "1              2            0            0         0                3   \n",
       "2              6            1            0         0                3   \n",
       "3              4            0            0         0                3   \n",
       "4              0            1            0         2                3   \n",
       "\n",
       "   poutcome_enc  contact_enc  month_enc  \n",
       "0             0            0          1  \n",
       "1             0            0          1  \n",
       "2             0            0          1  \n",
       "3             0            0          1  \n",
       "4             0            0          1  \n",
       "\n",
       "[5 rows x 21 columns]"
      ]
     },
     "execution_count": 36,
     "metadata": {},
     "output_type": "execute_result"
    }
   ],
   "source": [
    "X_train.head()"
   ]
  },
  {
   "cell_type": "code",
   "execution_count": 37,
   "id": "front-discovery",
   "metadata": {},
   "outputs": [
    {
     "name": "stdout",
     "output_type": "stream",
     "text": [
      "<class 'pandas.core.frame.DataFrame'>\n",
      "Int64Index: 2919 entries, 0 to 2918\n",
      "Data columns (total 21 columns):\n",
      " #   Column           Non-Null Count  Dtype  \n",
      "---  ------           --------------  -----  \n",
      " 0   key              2919 non-null   int64  \n",
      " 1   age              2919 non-null   int64  \n",
      " 2   duration         2919 non-null   int64  \n",
      " 3   campaign         2919 non-null   int64  \n",
      " 4   pdays            2919 non-null   int64  \n",
      " 5   previous         2919 non-null   int64  \n",
      " 6   emp.var.rate     2919 non-null   float64\n",
      " 7   cons.price.idx   2919 non-null   float64\n",
      " 8   cons.conf.idx    2919 non-null   float64\n",
      " 9   euribor3m        2919 non-null   float64\n",
      " 10  nr.employed      2919 non-null   float64\n",
      " 11  job_enc          2919 non-null   int32  \n",
      " 12  marital_enc      2919 non-null   int32  \n",
      " 13  education_enc    2919 non-null   int32  \n",
      " 14  default_enc      2919 non-null   int32  \n",
      " 15  housing_enc      2919 non-null   int32  \n",
      " 16  loan_enc         2919 non-null   int32  \n",
      " 17  day_of_week_enc  2919 non-null   int32  \n",
      " 18  poutcome_enc     2919 non-null   int32  \n",
      " 19  contact_enc      2919 non-null   int32  \n",
      " 20  month_enc        2919 non-null   int32  \n",
      "dtypes: float64(5), int32(10), int64(6)\n",
      "memory usage: 387.7 KB\n"
     ]
    }
   ],
   "source": [
    "X_train.info()"
   ]
  },
  {
   "cell_type": "markdown",
   "id": "rapid-fisher",
   "metadata": {},
   "source": [
    "# Feature Selection"
   ]
  },
  {
   "cell_type": "code",
   "execution_count": 38,
   "id": "taken-convertible",
   "metadata": {},
   "outputs": [
    {
     "data": {
      "text/plain": [
       "<AxesSubplot:title={'center':'Pearson Correlation of Features'}>"
      ]
     },
     "execution_count": 38,
     "metadata": {},
     "output_type": "execute_result"
    },
    {
     "data": {
      "image/png": "[encoded data removed]",
      "text/plain": [
       "<Figure size 1008x864 with 2 Axes>"
      ]
     },
     "metadata": {
      "needs_background": "light"
     },
     "output_type": "display_data"
    }
   ],
   "source": [
    "import  matplotlib.pyplot as plt\n",
    "colormap = plt.cm.RdBu\n",
    "plt.figure(figsize=(14,12))\n",
    "plt.title('Pearson Correlation of Features', y=1.05, size=15)\n",
    "sns.heatmap(X_train.merge(y_train , on = X_train.index ).corr(),linewidths=0.1,vmax=1.0, \n",
    "            square=True, cmap=colormap, linecolor='white', annot=True)"
   ]
  },
  {
   "cell_type": "code",
   "execution_count": 39,
   "id": "global-marketing",
   "metadata": {},
   "outputs": [],
   "source": [
    "del X_train['pdays']\n",
    "del X_test['pdays']\n",
    "del X_val['pdays']\n",
    "\n",
    "del X_train['previous']\n",
    "del X_test['previous']\n",
    "del X_val['previous']\n",
    "\n",
    "del X_train['poutcome_enc']\n",
    "del X_test['poutcome_enc']\n",
    "del X_val['poutcome_enc']\n",
    "\n",
    "del X_train['contact_enc']\n",
    "del X_test['contact_enc']\n",
    "del X_val['contact_enc']\n",
    "\n",
    "del X_train['default_enc']\n",
    "del X_test['default_enc']\n",
    "del X_val['default_enc']\n"
   ]
  },
  {
   "cell_type": "code",
   "execution_count": 40,
   "id": "prime-complement",
   "metadata": {},
   "outputs": [
    {
     "data": {
      "text/html": [
       "<div>\n",
       "<style scoped>\n",
       "    .dataframe tbody tr th:only-of-type {\n",
       "        vertical-align: middle;\n",
       "    }\n",
       "\n",
       "    .dataframe tbody tr th {\n",
       "        vertical-align: top;\n",
       "    }\n",
       "\n",
       "    .dataframe thead th {\n",
       "        text-align: right;\n",
       "    }\n",
       "</style>\n",
       "<table border=\"1\" class=\"dataframe\">\n",
       "  <thead>\n",
       "    <tr style=\"text-align: right;\">\n",
       "      <th></th>\n",
       "      <th>key</th>\n",
       "      <th>age</th>\n",
       "      <th>duration</th>\n",
       "      <th>campaign</th>\n",
       "      <th>emp.var.rate</th>\n",
       "      <th>cons.price.idx</th>\n",
       "      <th>cons.conf.idx</th>\n",
       "      <th>euribor3m</th>\n",
       "      <th>nr.employed</th>\n",
       "      <th>job_enc</th>\n",
       "      <th>marital_enc</th>\n",
       "      <th>education_enc</th>\n",
       "      <th>housing_enc</th>\n",
       "      <th>loan_enc</th>\n",
       "      <th>day_of_week_enc</th>\n",
       "      <th>month_enc</th>\n",
       "    </tr>\n",
       "  </thead>\n",
       "  <tbody>\n",
       "    <tr>\n",
       "      <th>0</th>\n",
       "      <td>444</td>\n",
       "      <td>45</td>\n",
       "      <td>140</td>\n",
       "      <td>1</td>\n",
       "      <td>1.1</td>\n",
       "      <td>93.994</td>\n",
       "      <td>-36.4</td>\n",
       "      <td>4.857</td>\n",
       "      <td>5191.0</td>\n",
       "      <td>4</td>\n",
       "      <td>1</td>\n",
       "      <td>5</td>\n",
       "      <td>2</td>\n",
       "      <td>0</td>\n",
       "      <td>3</td>\n",
       "      <td>1</td>\n",
       "    </tr>\n",
       "    <tr>\n",
       "      <th>1</th>\n",
       "      <td>445</td>\n",
       "      <td>34</td>\n",
       "      <td>175</td>\n",
       "      <td>1</td>\n",
       "      <td>1.1</td>\n",
       "      <td>93.994</td>\n",
       "      <td>-36.4</td>\n",
       "      <td>4.857</td>\n",
       "      <td>5191.0</td>\n",
       "      <td>0</td>\n",
       "      <td>1</td>\n",
       "      <td>2</td>\n",
       "      <td>0</td>\n",
       "      <td>0</td>\n",
       "      <td>3</td>\n",
       "      <td>1</td>\n",
       "    </tr>\n",
       "    <tr>\n",
       "      <th>2</th>\n",
       "      <td>446</td>\n",
       "      <td>47</td>\n",
       "      <td>136</td>\n",
       "      <td>1</td>\n",
       "      <td>1.1</td>\n",
       "      <td>93.994</td>\n",
       "      <td>-36.4</td>\n",
       "      <td>4.857</td>\n",
       "      <td>5191.0</td>\n",
       "      <td>1</td>\n",
       "      <td>1</td>\n",
       "      <td>6</td>\n",
       "      <td>0</td>\n",
       "      <td>0</td>\n",
       "      <td>3</td>\n",
       "      <td>1</td>\n",
       "    </tr>\n",
       "    <tr>\n",
       "      <th>3</th>\n",
       "      <td>447</td>\n",
       "      <td>42</td>\n",
       "      <td>1623</td>\n",
       "      <td>1</td>\n",
       "      <td>1.1</td>\n",
       "      <td>93.994</td>\n",
       "      <td>-36.4</td>\n",
       "      <td>4.857</td>\n",
       "      <td>5191.0</td>\n",
       "      <td>9</td>\n",
       "      <td>1</td>\n",
       "      <td>4</td>\n",
       "      <td>0</td>\n",
       "      <td>0</td>\n",
       "      <td>3</td>\n",
       "      <td>1</td>\n",
       "    </tr>\n",
       "    <tr>\n",
       "      <th>4</th>\n",
       "      <td>448</td>\n",
       "      <td>57</td>\n",
       "      <td>50</td>\n",
       "      <td>1</td>\n",
       "      <td>1.1</td>\n",
       "      <td>93.994</td>\n",
       "      <td>-36.4</td>\n",
       "      <td>4.857</td>\n",
       "      <td>5191.0</td>\n",
       "      <td>9</td>\n",
       "      <td>1</td>\n",
       "      <td>0</td>\n",
       "      <td>0</td>\n",
       "      <td>2</td>\n",
       "      <td>3</td>\n",
       "      <td>1</td>\n",
       "    </tr>\n",
       "  </tbody>\n",
       "</table>\n",
       "</div>"
      ],
      "text/plain": [
       "   key  age  duration  campaign  emp.var.rate  cons.price.idx  cons.conf.idx  \\\n",
       "0  444   45       140         1           1.1          93.994          -36.4   \n",
       "1  445   34       175         1           1.1          93.994          -36.4   \n",
       "2  446   47       136         1           1.1          93.994          -36.4   \n",
       "3  447   42      1623         1           1.1          93.994          -36.4   \n",
       "4  448   57        50         1           1.1          93.994          -36.4   \n",
       "\n",
       "   euribor3m  nr.employed  job_enc  marital_enc  education_enc  housing_enc  \\\n",
       "0      4.857       5191.0        4            1              5            2   \n",
       "1      4.857       5191.0        0            1              2            0   \n",
       "2      4.857       5191.0        1            1              6            0   \n",
       "3      4.857       5191.0        9            1              4            0   \n",
       "4      4.857       5191.0        9            1              0            0   \n",
       "\n",
       "   loan_enc  day_of_week_enc  month_enc  \n",
       "0         0                3          1  \n",
       "1         0                3          1  \n",
       "2         0                3          1  \n",
       "3         0                3          1  \n",
       "4         2                3          1  "
      ]
     },
     "execution_count": 40,
     "metadata": {},
     "output_type": "execute_result"
    }
   ],
   "source": [
    "X_train.head()"
   ]
  },
  {
   "cell_type": "markdown",
   "id": "owned-optimum",
   "metadata": {},
   "source": [
    "# Modelling"
   ]
  },
  {
   "cell_type": "markdown",
   "id": "pediatric-folks",
   "metadata": {},
   "source": [
    "### Support vector Machine"
   ]
  },
  {
   "cell_type": "code",
   "execution_count": 41,
   "id": "sixth-computer",
   "metadata": {},
   "outputs": [],
   "source": [
    "import sklearn\n",
    "from sklearn.svm import SVC\n",
    "from sklearn.metrics import confusion_matrix, classification_report, accuracy_score "
   ]
  },
  {
   "cell_type": "code",
   "execution_count": 42,
   "id": "eligible-marshall",
   "metadata": {},
   "outputs": [
    {
     "data": {
      "text/plain": [
       "SVC()"
      ]
     },
     "execution_count": 42,
     "metadata": {},
     "output_type": "execute_result"
    }
   ],
   "source": [
    "svc_clf = SVC()\n",
    "svc_clf.fit(X_train,y_train)"
   ]
  },
  {
   "cell_type": "code",
   "execution_count": 43,
   "id": "polar-prospect",
   "metadata": {},
   "outputs": [
    {
     "data": {
      "text/plain": [
       "0.9408"
      ]
     },
     "execution_count": 43,
     "metadata": {},
     "output_type": "execute_result"
    }
   ],
   "source": [
    "prediction = svc_clf.predict(X_val)\n",
    "accuracy_score(y_val, prediction)"
   ]
  },
  {
   "cell_type": "code",
   "execution_count": 44,
   "id": "dated-rachel",
   "metadata": {},
   "outputs": [
    {
     "data": {
      "text/html": [
       "<div>\n",
       "<style scoped>\n",
       "    .dataframe tbody tr th:only-of-type {\n",
       "        vertical-align: middle;\n",
       "    }\n",
       "\n",
       "    .dataframe tbody tr th {\n",
       "        vertical-align: top;\n",
       "    }\n",
       "\n",
       "    .dataframe thead th {\n",
       "        text-align: right;\n",
       "    }\n",
       "</style>\n",
       "<table border=\"1\" class=\"dataframe\">\n",
       "  <thead>\n",
       "    <tr style=\"text-align: right;\">\n",
       "      <th></th>\n",
       "      <th>actuals</th>\n",
       "      <th>prediction</th>\n",
       "    </tr>\n",
       "  </thead>\n",
       "  <tbody>\n",
       "    <tr>\n",
       "      <th>0</th>\n",
       "      <td>no</td>\n",
       "      <td>no</td>\n",
       "    </tr>\n",
       "    <tr>\n",
       "      <th>1</th>\n",
       "      <td>no</td>\n",
       "      <td>no</td>\n",
       "    </tr>\n",
       "    <tr>\n",
       "      <th>2</th>\n",
       "      <td>no</td>\n",
       "      <td>no</td>\n",
       "    </tr>\n",
       "    <tr>\n",
       "      <th>3</th>\n",
       "      <td>no</td>\n",
       "      <td>no</td>\n",
       "    </tr>\n",
       "    <tr>\n",
       "      <th>4</th>\n",
       "      <td>no</td>\n",
       "      <td>no</td>\n",
       "    </tr>\n",
       "    <tr>\n",
       "      <th>...</th>\n",
       "      <td>...</td>\n",
       "      <td>...</td>\n",
       "    </tr>\n",
       "    <tr>\n",
       "      <th>620</th>\n",
       "      <td>no</td>\n",
       "      <td>no</td>\n",
       "    </tr>\n",
       "    <tr>\n",
       "      <th>621</th>\n",
       "      <td>no</td>\n",
       "      <td>no</td>\n",
       "    </tr>\n",
       "    <tr>\n",
       "      <th>622</th>\n",
       "      <td>yes</td>\n",
       "      <td>no</td>\n",
       "    </tr>\n",
       "    <tr>\n",
       "      <th>623</th>\n",
       "      <td>no</td>\n",
       "      <td>no</td>\n",
       "    </tr>\n",
       "    <tr>\n",
       "      <th>624</th>\n",
       "      <td>no</td>\n",
       "      <td>no</td>\n",
       "    </tr>\n",
       "  </tbody>\n",
       "</table>\n",
       "<p>625 rows × 2 columns</p>\n",
       "</div>"
      ],
      "text/plain": [
       "    actuals prediction\n",
       "0        no         no\n",
       "1        no         no\n",
       "2        no         no\n",
       "3        no         no\n",
       "4        no         no\n",
       "..      ...        ...\n",
       "620      no         no\n",
       "621      no         no\n",
       "622     yes         no\n",
       "623      no         no\n",
       "624      no         no\n",
       "\n",
       "[625 rows x 2 columns]"
      ]
     },
     "execution_count": 44,
     "metadata": {},
     "output_type": "execute_result"
    }
   ],
   "source": [
    "pd.DataFrame(zip(y_val, prediction), columns = ['actuals', 'prediction'])"
   ]
  },
  {
   "cell_type": "markdown",
   "id": "angry-access",
   "metadata": {},
   "source": [
    "### Decision tree classifier"
   ]
  },
  {
   "cell_type": "code",
   "execution_count": 45,
   "id": "champion-basics",
   "metadata": {},
   "outputs": [
    {
     "data": {
      "text/plain": [
       "DecisionTreeClassifier()"
      ]
     },
     "execution_count": 45,
     "metadata": {},
     "output_type": "execute_result"
    }
   ],
   "source": [
    "from sklearn.tree import DecisionTreeClassifier\n",
    "clf2 = DecisionTreeClassifier()\n",
    "clf2.fit(X_train, y_train)"
   ]
  },
  {
   "cell_type": "code",
   "execution_count": 46,
   "id": "robust-length",
   "metadata": {},
   "outputs": [
    {
     "data": {
      "text/plain": [
       "0.9456"
      ]
     },
     "execution_count": 46,
     "metadata": {},
     "output_type": "execute_result"
    }
   ],
   "source": [
    "prediction2 = clf2.predict(X_val)\n",
    "accuracy_score(y_val, prediction2)"
   ]
  },
  {
   "cell_type": "code",
   "execution_count": 47,
   "id": "diagnostic-custody",
   "metadata": {},
   "outputs": [
    {
     "data": {
      "text/plain": [
       "0.9472843450479234"
      ]
     },
     "execution_count": 47,
     "metadata": {},
     "output_type": "execute_result"
    }
   ],
   "source": [
    "prediction3 = clf2.predict(X_test)\n",
    "accuracy_score(y_test, prediction3)"
   ]
  },
  {
   "cell_type": "markdown",
   "id": "secure-mechanism",
   "metadata": {},
   "source": [
    "### Random Forest Classifier"
   ]
  },
  {
   "cell_type": "code",
   "execution_count": 48,
   "id": "presidential-thompson",
   "metadata": {},
   "outputs": [
    {
     "data": {
      "text/plain": [
       "RandomForestClassifier()"
      ]
     },
     "execution_count": 48,
     "metadata": {},
     "output_type": "execute_result"
    }
   ],
   "source": [
    "from sklearn.ensemble import RandomForestClassifier\n",
    "clf3 = RandomForestClassifier()\n",
    "clf3.fit(X_train, y_train)"
   ]
  },
  {
   "cell_type": "code",
   "execution_count": 49,
   "id": "unable-thinking",
   "metadata": {},
   "outputs": [
    {
     "data": {
      "text/plain": [
       "0.952"
      ]
     },
     "execution_count": 49,
     "metadata": {},
     "output_type": "execute_result"
    }
   ],
   "source": [
    "prediction4 = clf3.predict(X_val)\n",
    "accuracy_score(y_val, prediction4)"
   ]
  },
  {
   "cell_type": "code",
   "execution_count": 50,
   "id": "looking-sector",
   "metadata": {},
   "outputs": [
    {
     "data": {
      "text/plain": [
       "0.9552715654952076"
      ]
     },
     "execution_count": 50,
     "metadata": {},
     "output_type": "execute_result"
    }
   ],
   "source": [
    "prediction5 = clf3.predict(X_test)\n",
    "accuracy_score(y_test, prediction5)"
   ]
  },
  {
   "cell_type": "markdown",
   "id": "descending-flavor",
   "metadata": {},
   "source": [
    "### Test Set"
   ]
  },
  {
   "cell_type": "code",
   "execution_count": 51,
   "id": "outer-interaction",
   "metadata": {},
   "outputs": [
    {
     "data": {
      "text/html": [
       "<div>\n",
       "<style scoped>\n",
       "    .dataframe tbody tr th:only-of-type {\n",
       "        vertical-align: middle;\n",
       "    }\n",
       "\n",
       "    .dataframe tbody tr th {\n",
       "        vertical-align: top;\n",
       "    }\n",
       "\n",
       "    .dataframe thead th {\n",
       "        text-align: right;\n",
       "    }\n",
       "</style>\n",
       "<table border=\"1\" class=\"dataframe\">\n",
       "  <thead>\n",
       "    <tr style=\"text-align: right;\">\n",
       "      <th></th>\n",
       "      <th>key</th>\n",
       "      <th>age</th>\n",
       "      <th>job</th>\n",
       "      <th>marital</th>\n",
       "      <th>education</th>\n",
       "      <th>default</th>\n",
       "      <th>housing</th>\n",
       "      <th>loan</th>\n",
       "      <th>contact</th>\n",
       "      <th>month</th>\n",
       "      <th>...</th>\n",
       "      <th>duration</th>\n",
       "      <th>campaign</th>\n",
       "      <th>pdays</th>\n",
       "      <th>previous</th>\n",
       "      <th>poutcome</th>\n",
       "      <th>emp.var.rate</th>\n",
       "      <th>cons.price.idx</th>\n",
       "      <th>cons.conf.idx</th>\n",
       "      <th>euribor3m</th>\n",
       "      <th>nr.employed</th>\n",
       "    </tr>\n",
       "  </thead>\n",
       "  <tbody>\n",
       "    <tr>\n",
       "      <th>0</th>\n",
       "      <td>1</td>\n",
       "      <td>56</td>\n",
       "      <td>housemaid</td>\n",
       "      <td>married</td>\n",
       "      <td>basic.4y</td>\n",
       "      <td>no</td>\n",
       "      <td>no</td>\n",
       "      <td>no</td>\n",
       "      <td>telephone</td>\n",
       "      <td>may</td>\n",
       "      <td>...</td>\n",
       "      <td>261</td>\n",
       "      <td>1</td>\n",
       "      <td>999</td>\n",
       "      <td>0</td>\n",
       "      <td>nonexistent</td>\n",
       "      <td>1.1</td>\n",
       "      <td>93.994</td>\n",
       "      <td>-36.4</td>\n",
       "      <td>4.857</td>\n",
       "      <td>5191.0</td>\n",
       "    </tr>\n",
       "    <tr>\n",
       "      <th>1</th>\n",
       "      <td>2</td>\n",
       "      <td>57</td>\n",
       "      <td>services</td>\n",
       "      <td>married</td>\n",
       "      <td>high.school</td>\n",
       "      <td>unknown</td>\n",
       "      <td>no</td>\n",
       "      <td>no</td>\n",
       "      <td>telephone</td>\n",
       "      <td>may</td>\n",
       "      <td>...</td>\n",
       "      <td>149</td>\n",
       "      <td>1</td>\n",
       "      <td>999</td>\n",
       "      <td>0</td>\n",
       "      <td>nonexistent</td>\n",
       "      <td>1.1</td>\n",
       "      <td>93.994</td>\n",
       "      <td>-36.4</td>\n",
       "      <td>4.857</td>\n",
       "      <td>5191.0</td>\n",
       "    </tr>\n",
       "    <tr>\n",
       "      <th>2</th>\n",
       "      <td>3</td>\n",
       "      <td>37</td>\n",
       "      <td>services</td>\n",
       "      <td>married</td>\n",
       "      <td>high.school</td>\n",
       "      <td>no</td>\n",
       "      <td>yes</td>\n",
       "      <td>no</td>\n",
       "      <td>telephone</td>\n",
       "      <td>may</td>\n",
       "      <td>...</td>\n",
       "      <td>226</td>\n",
       "      <td>1</td>\n",
       "      <td>999</td>\n",
       "      <td>0</td>\n",
       "      <td>nonexistent</td>\n",
       "      <td>1.1</td>\n",
       "      <td>93.994</td>\n",
       "      <td>-36.4</td>\n",
       "      <td>4.857</td>\n",
       "      <td>5191.0</td>\n",
       "    </tr>\n",
       "    <tr>\n",
       "      <th>3</th>\n",
       "      <td>4</td>\n",
       "      <td>40</td>\n",
       "      <td>admin.</td>\n",
       "      <td>married</td>\n",
       "      <td>basic.6y</td>\n",
       "      <td>no</td>\n",
       "      <td>no</td>\n",
       "      <td>no</td>\n",
       "      <td>telephone</td>\n",
       "      <td>may</td>\n",
       "      <td>...</td>\n",
       "      <td>151</td>\n",
       "      <td>1</td>\n",
       "      <td>999</td>\n",
       "      <td>0</td>\n",
       "      <td>nonexistent</td>\n",
       "      <td>1.1</td>\n",
       "      <td>93.994</td>\n",
       "      <td>-36.4</td>\n",
       "      <td>4.857</td>\n",
       "      <td>5191.0</td>\n",
       "    </tr>\n",
       "    <tr>\n",
       "      <th>4</th>\n",
       "      <td>5</td>\n",
       "      <td>56</td>\n",
       "      <td>services</td>\n",
       "      <td>married</td>\n",
       "      <td>high.school</td>\n",
       "      <td>no</td>\n",
       "      <td>no</td>\n",
       "      <td>yes</td>\n",
       "      <td>telephone</td>\n",
       "      <td>may</td>\n",
       "      <td>...</td>\n",
       "      <td>307</td>\n",
       "      <td>1</td>\n",
       "      <td>999</td>\n",
       "      <td>0</td>\n",
       "      <td>nonexistent</td>\n",
       "      <td>1.1</td>\n",
       "      <td>93.994</td>\n",
       "      <td>-36.4</td>\n",
       "      <td>4.857</td>\n",
       "      <td>5191.0</td>\n",
       "    </tr>\n",
       "  </tbody>\n",
       "</table>\n",
       "<p>5 rows × 21 columns</p>\n",
       "</div>"
      ],
      "text/plain": [
       "   key  age        job  marital    education  default housing loan    contact  \\\n",
       "0    1   56  housemaid  married     basic.4y       no      no   no  telephone   \n",
       "1    2   57   services  married  high.school  unknown      no   no  telephone   \n",
       "2    3   37   services  married  high.school       no     yes   no  telephone   \n",
       "3    4   40     admin.  married     basic.6y       no      no   no  telephone   \n",
       "4    5   56   services  married  high.school       no      no  yes  telephone   \n",
       "\n",
       "  month  ... duration  campaign  pdays  previous     poutcome emp.var.rate  \\\n",
       "0   may  ...      261         1    999         0  nonexistent          1.1   \n",
       "1   may  ...      149         1    999         0  nonexistent          1.1   \n",
       "2   may  ...      226         1    999         0  nonexistent          1.1   \n",
       "3   may  ...      151         1    999         0  nonexistent          1.1   \n",
       "4   may  ...      307         1    999         0  nonexistent          1.1   \n",
       "\n",
       "   cons.price.idx  cons.conf.idx  euribor3m  nr.employed  \n",
       "0          93.994          -36.4      4.857       5191.0  \n",
       "1          93.994          -36.4      4.857       5191.0  \n",
       "2          93.994          -36.4      4.857       5191.0  \n",
       "3          93.994          -36.4      4.857       5191.0  \n",
       "4          93.994          -36.4      4.857       5191.0  \n",
       "\n",
       "[5 rows x 21 columns]"
      ]
     },
     "execution_count": 51,
     "metadata": {},
     "output_type": "execute_result"
    }
   ],
   "source": [
    "test1.head()"
   ]
  },
  {
   "cell_type": "code",
   "execution_count": 52,
   "id": "complete-intranet",
   "metadata": {},
   "outputs": [
    {
     "data": {
      "text/plain": [
       "(37018, 21)"
      ]
     },
     "execution_count": 52,
     "metadata": {},
     "output_type": "execute_result"
    }
   ],
   "source": [
    "test1.shape"
   ]
  },
  {
   "cell_type": "code",
   "execution_count": 53,
   "id": "welcome-spell",
   "metadata": {},
   "outputs": [
    {
     "data": {
      "text/plain": [
       "(37018, 21)"
      ]
     },
     "execution_count": 53,
     "metadata": {},
     "output_type": "execute_result"
    }
   ],
   "source": [
    "t1 = test1.copy()\n",
    "t1 = t1.drop_duplicates()\n",
    "t1.shape"
   ]
  },
  {
   "cell_type": "code",
   "execution_count": 54,
   "id": "obvious-mineral",
   "metadata": {},
   "outputs": [],
   "source": [
    "test = test1.copy()"
   ]
  },
  {
   "cell_type": "markdown",
   "id": "legitimate-commercial",
   "metadata": {},
   "source": [
    "### we have to bring the test set in same format as that of the train set"
   ]
  },
  {
   "cell_type": "code",
   "execution_count": 55,
   "id": "exposed-award",
   "metadata": {},
   "outputs": [],
   "source": [
    "#Do same preprocessing steps\n",
    "#Do same feature engg\n",
    "#Do same feature selection\n",
    "#fed to model and predict"
   ]
  },
  {
   "cell_type": "code",
   "execution_count": 56,
   "id": "comfortable-scottish",
   "metadata": {},
   "outputs": [
    {
     "data": {
      "text/plain": [
       "key               0\n",
       "age               0\n",
       "job               0\n",
       "marital           0\n",
       "education         0\n",
       "default           0\n",
       "housing           0\n",
       "loan              0\n",
       "contact           0\n",
       "month             0\n",
       "day_of_week       0\n",
       "duration          0\n",
       "campaign          0\n",
       "pdays             0\n",
       "previous          0\n",
       "poutcome          0\n",
       "emp.var.rate      0\n",
       "cons.price.idx    0\n",
       "cons.conf.idx     0\n",
       "euribor3m         0\n",
       "nr.employed       0\n",
       "dtype: int64"
      ]
     },
     "execution_count": 56,
     "metadata": {},
     "output_type": "execute_result"
    }
   ],
   "source": [
    "test.isnull().sum()"
   ]
  },
  {
   "cell_type": "code",
   "execution_count": null,
   "id": "protective-mortality",
   "metadata": {},
   "outputs": [],
   "source": []
  },
  {
   "cell_type": "code",
   "execution_count": 57,
   "id": "billion-certification",
   "metadata": {},
   "outputs": [],
   "source": [
    "#drop any duplicates in the data\n",
    "\n",
    "test = test.drop_duplicates()"
   ]
  },
  {
   "cell_type": "code",
   "execution_count": 58,
   "id": "wicked-conversation",
   "metadata": {},
   "outputs": [
    {
     "data": {
      "text/plain": [
       "(37018, 21)"
      ]
     },
     "execution_count": 58,
     "metadata": {},
     "output_type": "execute_result"
    }
   ],
   "source": [
    "test.shape"
   ]
  },
  {
   "cell_type": "code",
   "execution_count": 59,
   "id": "virgin-avenue",
   "metadata": {},
   "outputs": [
    {
     "data": {
      "text/plain": [
       "key               37018\n",
       "age                  78\n",
       "job                  12\n",
       "marital               4\n",
       "education             8\n",
       "default               3\n",
       "housing               3\n",
       "loan                  3\n",
       "contact               2\n",
       "month                10\n",
       "day_of_week           5\n",
       "duration           1501\n",
       "campaign             38\n",
       "pdays                27\n",
       "previous              8\n",
       "poutcome              3\n",
       "emp.var.rate         10\n",
       "cons.price.idx       26\n",
       "cons.conf.idx        26\n",
       "euribor3m           316\n",
       "nr.employed          11\n",
       "dtype: int64"
      ]
     },
     "execution_count": 59,
     "metadata": {},
     "output_type": "execute_result"
    }
   ],
   "source": [
    "test.nunique()"
   ]
  },
  {
   "cell_type": "code",
   "execution_count": 60,
   "id": "crucial-burns",
   "metadata": {},
   "outputs": [],
   "source": [
    "# encoding the categorical variables\n",
    "\n",
    "test['marital_enc'] = encoder1.transform(test['marital'])\n",
    "\n",
    "test['housing_enc'] = encoder4.transform(test['housing'])\n",
    "\n",
    "test['loan_enc'] = encoder5.transform(test['loan'])\n",
    "\n",
    "test['day_of_week_enc'] = encoder6.transform(test['day_of_week'])"
   ]
  },
  {
   "cell_type": "code",
   "execution_count": 61,
   "id": "together-error",
   "metadata": {},
   "outputs": [],
   "source": [
    "# Again new classes are there in the test set\n",
    "temp = set(test['job'])-set(encoder.classes_)\n",
    "for items in temp:\n",
    "    encoder.classes_= np.append(encoder.classes_,items)\n",
    "test['job_enc'] = encoder.transform(test['job'])"
   ]
  },
  {
   "cell_type": "code",
   "execution_count": 62,
   "id": "provincial-truck",
   "metadata": {},
   "outputs": [],
   "source": [
    "temp1 = set(test['education'])-set(encoder2.classes_)\n",
    "for items in temp1:\n",
    "    encoder2.classes_= np.append(encoder2.classes_,items)\n",
    "test['education_enc'] = encoder2.transform(test['education'])"
   ]
  },
  {
   "cell_type": "code",
   "execution_count": 63,
   "id": "hindu-moral",
   "metadata": {},
   "outputs": [],
   "source": [
    "temp2 = set(test['month'])-set(encoder9.classes_)\n",
    "for items in temp2:\n",
    "    encoder9.classes_= np.append(encoder9.classes_,items)\n",
    "test['month_enc'] = encoder9.transform(test['month'])"
   ]
  },
  {
   "cell_type": "code",
   "execution_count": 64,
   "id": "honest-casino",
   "metadata": {},
   "outputs": [],
   "source": [
    "test.drop(['marital','housing','loan','day_of_week','job','education','month'],inplace =True ,axis=1)"
   ]
  },
  {
   "cell_type": "code",
   "execution_count": 65,
   "id": "explicit-private",
   "metadata": {},
   "outputs": [],
   "source": [
    "test.drop(['pdays','previous','poutcome','contact','default'],inplace =True ,axis=1)"
   ]
  },
  {
   "cell_type": "code",
   "execution_count": 66,
   "id": "first-imaging",
   "metadata": {},
   "outputs": [
    {
     "name": "stdout",
     "output_type": "stream",
     "text": [
      "<class 'pandas.core.frame.DataFrame'>\n",
      "Int64Index: 37018 entries, 0 to 37017\n",
      "Data columns (total 16 columns):\n",
      " #   Column           Non-Null Count  Dtype  \n",
      "---  ------           --------------  -----  \n",
      " 0   key              37018 non-null  int64  \n",
      " 1   age              37018 non-null  int64  \n",
      " 2   duration         37018 non-null  int64  \n",
      " 3   campaign         37018 non-null  int64  \n",
      " 4   emp.var.rate     37018 non-null  float64\n",
      " 5   cons.price.idx   37018 non-null  float64\n",
      " 6   cons.conf.idx    37018 non-null  float64\n",
      " 7   euribor3m        37018 non-null  float64\n",
      " 8   nr.employed      37018 non-null  float64\n",
      " 9   marital_enc      37018 non-null  int32  \n",
      " 10  housing_enc      37018 non-null  int32  \n",
      " 11  loan_enc         37018 non-null  int32  \n",
      " 12  day_of_week_enc  37018 non-null  int32  \n",
      " 13  job_enc          37018 non-null  int32  \n",
      " 14  education_enc    37018 non-null  int32  \n",
      " 15  month_enc        37018 non-null  int32  \n",
      "dtypes: float64(5), int32(7), int64(4)\n",
      "memory usage: 3.8 MB\n"
     ]
    }
   ],
   "source": [
    "test.info()"
   ]
  },
  {
   "cell_type": "code",
   "execution_count": 67,
   "id": "vietnamese-movie",
   "metadata": {},
   "outputs": [
    {
     "data": {
      "text/plain": [
       "(37018, 16)"
      ]
     },
     "execution_count": 67,
     "metadata": {},
     "output_type": "execute_result"
    }
   ],
   "source": [
    "test.shape"
   ]
  },
  {
   "cell_type": "code",
   "execution_count": 68,
   "id": "pleasant-advertiser",
   "metadata": {},
   "outputs": [],
   "source": [
    "final_result = clf3.predict(test)"
   ]
  },
  {
   "cell_type": "code",
   "execution_count": 69,
   "id": "complete-tuition",
   "metadata": {},
   "outputs": [
    {
     "data": {
      "text/plain": [
       "array(['no', 'no', 'no', ..., 'no', 'no', 'no'], dtype=object)"
      ]
     },
     "execution_count": 69,
     "metadata": {},
     "output_type": "execute_result"
    }
   ],
   "source": [
    "final_result"
   ]
  },
  {
   "cell_type": "code",
   "execution_count": 70,
   "id": "durable-adaptation",
   "metadata": {},
   "outputs": [],
   "source": [
    "final_result = pd.Series(final_result,name='y')"
   ]
  },
  {
   "cell_type": "code",
   "execution_count": 71,
   "id": "victorian-screen",
   "metadata": {},
   "outputs": [],
   "source": [
    "# resetting the index of test1 so that we can merge price series with it\n",
    "test1.reset_index(drop=True,inplace=True)"
   ]
  },
  {
   "cell_type": "code",
   "execution_count": 72,
   "id": "religious-tennis",
   "metadata": {},
   "outputs": [
    {
     "data": {
      "text/plain": [
       "0        no\n",
       "1        no\n",
       "2        no\n",
       "3        no\n",
       "4        no\n",
       "         ..\n",
       "37013    no\n",
       "37014    no\n",
       "37015    no\n",
       "37016    no\n",
       "37017    no\n",
       "Name: y, Length: 37018, dtype: object"
      ]
     },
     "execution_count": 72,
     "metadata": {},
     "output_type": "execute_result"
    }
   ],
   "source": [
    "final_result"
   ]
  },
  {
   "cell_type": "code",
   "execution_count": 73,
   "id": "northern-sherman",
   "metadata": {},
   "outputs": [
    {
     "data": {
      "text/plain": [
       "37018"
      ]
     },
     "execution_count": 73,
     "metadata": {},
     "output_type": "execute_result"
    }
   ],
   "source": [
    "len(test.index)"
   ]
  },
  {
   "cell_type": "code",
   "execution_count": 74,
   "id": "registered-notification",
   "metadata": {},
   "outputs": [
    {
     "data": {
      "text/plain": [
       "37018"
      ]
     },
     "execution_count": 74,
     "metadata": {},
     "output_type": "execute_result"
    }
   ],
   "source": [
    "len(final_result)"
   ]
  },
  {
   "cell_type": "code",
   "execution_count": 75,
   "id": "sixth-broadcast",
   "metadata": {},
   "outputs": [
    {
     "data": {
      "text/html": [
       "<div>\n",
       "<style scoped>\n",
       "    .dataframe tbody tr th:only-of-type {\n",
       "        vertical-align: middle;\n",
       "    }\n",
       "\n",
       "    .dataframe tbody tr th {\n",
       "        vertical-align: top;\n",
       "    }\n",
       "\n",
       "    .dataframe thead th {\n",
       "        text-align: right;\n",
       "    }\n",
       "</style>\n",
       "<table border=\"1\" class=\"dataframe\">\n",
       "  <thead>\n",
       "    <tr style=\"text-align: right;\">\n",
       "      <th></th>\n",
       "      <th>key_0</th>\n",
       "      <th>key</th>\n",
       "      <th>age</th>\n",
       "      <th>job</th>\n",
       "      <th>marital</th>\n",
       "      <th>education</th>\n",
       "      <th>default</th>\n",
       "      <th>housing</th>\n",
       "      <th>loan</th>\n",
       "      <th>contact</th>\n",
       "      <th>...</th>\n",
       "      <th>campaign</th>\n",
       "      <th>pdays</th>\n",
       "      <th>previous</th>\n",
       "      <th>poutcome</th>\n",
       "      <th>emp.var.rate</th>\n",
       "      <th>cons.price.idx</th>\n",
       "      <th>cons.conf.idx</th>\n",
       "      <th>euribor3m</th>\n",
       "      <th>nr.employed</th>\n",
       "      <th>y</th>\n",
       "    </tr>\n",
       "  </thead>\n",
       "  <tbody>\n",
       "    <tr>\n",
       "      <th>0</th>\n",
       "      <td>0</td>\n",
       "      <td>1</td>\n",
       "      <td>56</td>\n",
       "      <td>housemaid</td>\n",
       "      <td>married</td>\n",
       "      <td>basic.4y</td>\n",
       "      <td>no</td>\n",
       "      <td>no</td>\n",
       "      <td>no</td>\n",
       "      <td>telephone</td>\n",
       "      <td>...</td>\n",
       "      <td>1</td>\n",
       "      <td>999</td>\n",
       "      <td>0</td>\n",
       "      <td>nonexistent</td>\n",
       "      <td>1.1</td>\n",
       "      <td>93.994</td>\n",
       "      <td>-36.4</td>\n",
       "      <td>4.857</td>\n",
       "      <td>5191.0</td>\n",
       "      <td>no</td>\n",
       "    </tr>\n",
       "    <tr>\n",
       "      <th>1</th>\n",
       "      <td>1</td>\n",
       "      <td>2</td>\n",
       "      <td>57</td>\n",
       "      <td>services</td>\n",
       "      <td>married</td>\n",
       "      <td>high.school</td>\n",
       "      <td>unknown</td>\n",
       "      <td>no</td>\n",
       "      <td>no</td>\n",
       "      <td>telephone</td>\n",
       "      <td>...</td>\n",
       "      <td>1</td>\n",
       "      <td>999</td>\n",
       "      <td>0</td>\n",
       "      <td>nonexistent</td>\n",
       "      <td>1.1</td>\n",
       "      <td>93.994</td>\n",
       "      <td>-36.4</td>\n",
       "      <td>4.857</td>\n",
       "      <td>5191.0</td>\n",
       "      <td>no</td>\n",
       "    </tr>\n",
       "    <tr>\n",
       "      <th>2</th>\n",
       "      <td>2</td>\n",
       "      <td>3</td>\n",
       "      <td>37</td>\n",
       "      <td>services</td>\n",
       "      <td>married</td>\n",
       "      <td>high.school</td>\n",
       "      <td>no</td>\n",
       "      <td>yes</td>\n",
       "      <td>no</td>\n",
       "      <td>telephone</td>\n",
       "      <td>...</td>\n",
       "      <td>1</td>\n",
       "      <td>999</td>\n",
       "      <td>0</td>\n",
       "      <td>nonexistent</td>\n",
       "      <td>1.1</td>\n",
       "      <td>93.994</td>\n",
       "      <td>-36.4</td>\n",
       "      <td>4.857</td>\n",
       "      <td>5191.0</td>\n",
       "      <td>no</td>\n",
       "    </tr>\n",
       "    <tr>\n",
       "      <th>3</th>\n",
       "      <td>3</td>\n",
       "      <td>4</td>\n",
       "      <td>40</td>\n",
       "      <td>admin.</td>\n",
       "      <td>married</td>\n",
       "      <td>basic.6y</td>\n",
       "      <td>no</td>\n",
       "      <td>no</td>\n",
       "      <td>no</td>\n",
       "      <td>telephone</td>\n",
       "      <td>...</td>\n",
       "      <td>1</td>\n",
       "      <td>999</td>\n",
       "      <td>0</td>\n",
       "      <td>nonexistent</td>\n",
       "      <td>1.1</td>\n",
       "      <td>93.994</td>\n",
       "      <td>-36.4</td>\n",
       "      <td>4.857</td>\n",
       "      <td>5191.0</td>\n",
       "      <td>no</td>\n",
       "    </tr>\n",
       "    <tr>\n",
       "      <th>4</th>\n",
       "      <td>4</td>\n",
       "      <td>5</td>\n",
       "      <td>56</td>\n",
       "      <td>services</td>\n",
       "      <td>married</td>\n",
       "      <td>high.school</td>\n",
       "      <td>no</td>\n",
       "      <td>no</td>\n",
       "      <td>yes</td>\n",
       "      <td>telephone</td>\n",
       "      <td>...</td>\n",
       "      <td>1</td>\n",
       "      <td>999</td>\n",
       "      <td>0</td>\n",
       "      <td>nonexistent</td>\n",
       "      <td>1.1</td>\n",
       "      <td>93.994</td>\n",
       "      <td>-36.4</td>\n",
       "      <td>4.857</td>\n",
       "      <td>5191.0</td>\n",
       "      <td>no</td>\n",
       "    </tr>\n",
       "    <tr>\n",
       "      <th>...</th>\n",
       "      <td>...</td>\n",
       "      <td>...</td>\n",
       "      <td>...</td>\n",
       "      <td>...</td>\n",
       "      <td>...</td>\n",
       "      <td>...</td>\n",
       "      <td>...</td>\n",
       "      <td>...</td>\n",
       "      <td>...</td>\n",
       "      <td>...</td>\n",
       "      <td>...</td>\n",
       "      <td>...</td>\n",
       "      <td>...</td>\n",
       "      <td>...</td>\n",
       "      <td>...</td>\n",
       "      <td>...</td>\n",
       "      <td>...</td>\n",
       "      <td>...</td>\n",
       "      <td>...</td>\n",
       "      <td>...</td>\n",
       "      <td>...</td>\n",
       "    </tr>\n",
       "    <tr>\n",
       "      <th>37013</th>\n",
       "      <td>37013</td>\n",
       "      <td>41184</td>\n",
       "      <td>73</td>\n",
       "      <td>retired</td>\n",
       "      <td>married</td>\n",
       "      <td>professional.course</td>\n",
       "      <td>no</td>\n",
       "      <td>yes</td>\n",
       "      <td>no</td>\n",
       "      <td>cellular</td>\n",
       "      <td>...</td>\n",
       "      <td>1</td>\n",
       "      <td>999</td>\n",
       "      <td>0</td>\n",
       "      <td>nonexistent</td>\n",
       "      <td>-1.1</td>\n",
       "      <td>94.767</td>\n",
       "      <td>-50.8</td>\n",
       "      <td>1.028</td>\n",
       "      <td>4963.6</td>\n",
       "      <td>no</td>\n",
       "    </tr>\n",
       "    <tr>\n",
       "      <th>37014</th>\n",
       "      <td>37014</td>\n",
       "      <td>41185</td>\n",
       "      <td>46</td>\n",
       "      <td>blue-collar</td>\n",
       "      <td>married</td>\n",
       "      <td>professional.course</td>\n",
       "      <td>no</td>\n",
       "      <td>no</td>\n",
       "      <td>no</td>\n",
       "      <td>cellular</td>\n",
       "      <td>...</td>\n",
       "      <td>1</td>\n",
       "      <td>999</td>\n",
       "      <td>0</td>\n",
       "      <td>nonexistent</td>\n",
       "      <td>-1.1</td>\n",
       "      <td>94.767</td>\n",
       "      <td>-50.8</td>\n",
       "      <td>1.028</td>\n",
       "      <td>4963.6</td>\n",
       "      <td>no</td>\n",
       "    </tr>\n",
       "    <tr>\n",
       "      <th>37015</th>\n",
       "      <td>37015</td>\n",
       "      <td>41186</td>\n",
       "      <td>56</td>\n",
       "      <td>retired</td>\n",
       "      <td>married</td>\n",
       "      <td>university.degree</td>\n",
       "      <td>no</td>\n",
       "      <td>yes</td>\n",
       "      <td>no</td>\n",
       "      <td>cellular</td>\n",
       "      <td>...</td>\n",
       "      <td>2</td>\n",
       "      <td>999</td>\n",
       "      <td>0</td>\n",
       "      <td>nonexistent</td>\n",
       "      <td>-1.1</td>\n",
       "      <td>94.767</td>\n",
       "      <td>-50.8</td>\n",
       "      <td>1.028</td>\n",
       "      <td>4963.6</td>\n",
       "      <td>no</td>\n",
       "    </tr>\n",
       "    <tr>\n",
       "      <th>37016</th>\n",
       "      <td>37016</td>\n",
       "      <td>41187</td>\n",
       "      <td>44</td>\n",
       "      <td>technician</td>\n",
       "      <td>married</td>\n",
       "      <td>professional.course</td>\n",
       "      <td>no</td>\n",
       "      <td>no</td>\n",
       "      <td>no</td>\n",
       "      <td>cellular</td>\n",
       "      <td>...</td>\n",
       "      <td>1</td>\n",
       "      <td>999</td>\n",
       "      <td>0</td>\n",
       "      <td>nonexistent</td>\n",
       "      <td>-1.1</td>\n",
       "      <td>94.767</td>\n",
       "      <td>-50.8</td>\n",
       "      <td>1.028</td>\n",
       "      <td>4963.6</td>\n",
       "      <td>no</td>\n",
       "    </tr>\n",
       "    <tr>\n",
       "      <th>37017</th>\n",
       "      <td>37017</td>\n",
       "      <td>41188</td>\n",
       "      <td>74</td>\n",
       "      <td>retired</td>\n",
       "      <td>married</td>\n",
       "      <td>professional.course</td>\n",
       "      <td>no</td>\n",
       "      <td>yes</td>\n",
       "      <td>no</td>\n",
       "      <td>cellular</td>\n",
       "      <td>...</td>\n",
       "      <td>3</td>\n",
       "      <td>999</td>\n",
       "      <td>1</td>\n",
       "      <td>failure</td>\n",
       "      <td>-1.1</td>\n",
       "      <td>94.767</td>\n",
       "      <td>-50.8</td>\n",
       "      <td>1.028</td>\n",
       "      <td>4963.6</td>\n",
       "      <td>no</td>\n",
       "    </tr>\n",
       "  </tbody>\n",
       "</table>\n",
       "<p>37018 rows × 23 columns</p>\n",
       "</div>"
      ],
      "text/plain": [
       "       key_0    key  age          job  marital            education  default  \\\n",
       "0          0      1   56    housemaid  married             basic.4y       no   \n",
       "1          1      2   57     services  married          high.school  unknown   \n",
       "2          2      3   37     services  married          high.school       no   \n",
       "3          3      4   40       admin.  married             basic.6y       no   \n",
       "4          4      5   56     services  married          high.school       no   \n",
       "...      ...    ...  ...          ...      ...                  ...      ...   \n",
       "37013  37013  41184   73      retired  married  professional.course       no   \n",
       "37014  37014  41185   46  blue-collar  married  professional.course       no   \n",
       "37015  37015  41186   56      retired  married    university.degree       no   \n",
       "37016  37016  41187   44   technician  married  professional.course       no   \n",
       "37017  37017  41188   74      retired  married  professional.course       no   \n",
       "\n",
       "      housing loan    contact  ... campaign pdays  previous     poutcome  \\\n",
       "0          no   no  telephone  ...        1   999         0  nonexistent   \n",
       "1          no   no  telephone  ...        1   999         0  nonexistent   \n",
       "2         yes   no  telephone  ...        1   999         0  nonexistent   \n",
       "3          no   no  telephone  ...        1   999         0  nonexistent   \n",
       "4          no  yes  telephone  ...        1   999         0  nonexistent   \n",
       "...       ...  ...        ...  ...      ...   ...       ...          ...   \n",
       "37013     yes   no   cellular  ...        1   999         0  nonexistent   \n",
       "37014      no   no   cellular  ...        1   999         0  nonexistent   \n",
       "37015     yes   no   cellular  ...        2   999         0  nonexistent   \n",
       "37016      no   no   cellular  ...        1   999         0  nonexistent   \n",
       "37017     yes   no   cellular  ...        3   999         1      failure   \n",
       "\n",
       "       emp.var.rate  cons.price.idx cons.conf.idx  euribor3m  nr.employed   y  \n",
       "0               1.1          93.994         -36.4      4.857       5191.0  no  \n",
       "1               1.1          93.994         -36.4      4.857       5191.0  no  \n",
       "2               1.1          93.994         -36.4      4.857       5191.0  no  \n",
       "3               1.1          93.994         -36.4      4.857       5191.0  no  \n",
       "4               1.1          93.994         -36.4      4.857       5191.0  no  \n",
       "...             ...             ...           ...        ...          ...  ..  \n",
       "37013          -1.1          94.767         -50.8      1.028       4963.6  no  \n",
       "37014          -1.1          94.767         -50.8      1.028       4963.6  no  \n",
       "37015          -1.1          94.767         -50.8      1.028       4963.6  no  \n",
       "37016          -1.1          94.767         -50.8      1.028       4963.6  no  \n",
       "37017          -1.1          94.767         -50.8      1.028       4963.6  no  \n",
       "\n",
       "[37018 rows x 23 columns]"
      ]
     },
     "execution_count": 75,
     "metadata": {},
     "output_type": "execute_result"
    }
   ],
   "source": [
    "Final = test1.merge(final_result , on = test.index )\n",
    "Final"
   ]
  },
  {
   "cell_type": "code",
   "execution_count": null,
   "id": "environmental-visitor",
   "metadata": {},
   "outputs": [],
   "source": []
  }
 ],
 "metadata": {
  "kernelspec": {
   "display_name": "Python 3",
   "language": "python",
   "name": "python3"
  },
  "language_info": {
   "codemirror_mode": {
    "name": "ipython",
    "version": 3
   },
   "file_extension": ".py",
   "mimetype": "text/x-python",
   "name": "python",
   "nbconvert_exporter": "python",
   "pygments_lexer": "ipython3",
   "version": "3.9.1"
  }
 },
 "nbformat": 4,
 "nbformat_minor": 5
}
